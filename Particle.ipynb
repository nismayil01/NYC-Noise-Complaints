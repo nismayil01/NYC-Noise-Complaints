{
 "cells": [
  {
   "cell_type": "code",
   "execution_count": 31,
   "id": "138fe2c9",
   "metadata": {},
   "outputs": [
    {
     "name": "stdout",
     "output_type": "stream",
     "text": [
      "25 75\n"
     ]
    }
   ],
   "source": [
    "#2.1 \n",
    "x=0 #positions\n",
    "y=0\n",
    "for Number in range (1, 101):\n",
    "        count = 0\n",
    "        for i in range(2, (Number//2 + 1)):\n",
    "            if(Number % i == 0): #checking if not prime\n",
    "                count = count + 1\n",
    "                y+=1 #move 1 point\n",
    "                break\n",
    "        if (count == 0 and Number != 1):\n",
    "            x+=1\n",
    "print(x,y+1)"
   ]
  },
  {
   "cell_type": "code",
   "execution_count": 32,
   "id": "e4941e85",
   "metadata": {},
   "outputs": [
    {
     "name": "stdout",
     "output_type": "stream",
     "text": [
      "79.05694150420949\n"
     ]
    }
   ],
   "source": [
    "#Calculate distance\n",
    "import math\n",
    "initialx = 0\n",
    "initialy = 0\n",
    "  \n",
    "# Coordinates of last point\n",
    "lastx = x\n",
    "lasty = y+1\n",
    "  \n",
    "# Calculate the Euclidean distance \n",
    "# between points\n",
    "Distance = math.dist([lastx, lasty], [initialx, initialy])\n",
    "print(Distance)\n",
    "  "
   ]
  },
  {
   "cell_type": "code",
   "execution_count": 45,
   "id": "12fe6bba",
   "metadata": {},
   "outputs": [],
   "source": [
    "#2.2\n",
    "\n",
    "def probabilitywalk(n):\n",
    "    \n",
    "    import numpy\n",
    "    import pylab\n",
    "    import random\n",
    "\n",
    "    # defining the number of steps (+1 because of range below)\n",
    "    \n",
    "    # x and y array filled with 0's\n",
    "    x = numpy.zeros(n)\n",
    "    y = numpy.zeros(n)\n",
    "    import random \n",
    "\n",
    "    # actions deciding which direction / 1-> x_pos , 2-> x_neg, 3-> y_pos, 4-> y_neg\n",
    "    actions = [1,2,3,4]\n",
    "    distance_coord=[]\n",
    "\n",
    "    for i in range(1,n):\n",
    "        val=random.choices(actions, weights=(0.2,0.2,0.5,0.1), k=n+1) #weights as probabilities\n",
    "        if val[i] == 1: # x_pos and so on below\n",
    "            x[i] = x[i - 1] + 1\n",
    "            y[i] = y[i - 1]\n",
    "        elif val[i] == 2:\n",
    "            x[i] = x[i - 1] - 1\n",
    "            y[i] = y[i - 1]\n",
    "        elif val[i] == 3:\n",
    "            x[i] = x[i - 1]\n",
    "            y[i] = y[i - 1] + 1\n",
    "        else:\n",
    "            x[i] = x[i - 1]\n",
    "            y[i] = y[i - 1] - 1\n",
    "\n",
    "        ip=[0,0] #initial point\n",
    "        lp=[x,y] #last point\n",
    "        distance=np.sqrt((lp[0]**2-ip[0]**2)+(lp[1]**2-ip[1**2])) # Edistance\n",
    "        distance_coord.append(distance) #collecting distances\n",
    "\n",
    "    \n",
    "    # plotting stuff:\n",
    "    pylab.title(\"Random Walk ($n = \" + str(n-1) + \"$ steps)\")\n",
    "    pylab.plot(x, y)\n",
    "    \n",
    "    pylab.show()\n",
    "    return distance_coord"
   ]
  },
  {
   "cell_type": "code",
   "execution_count": 46,
   "id": "41645c33",
   "metadata": {},
   "outputs": [
    {
     "data": {
      "image/png": "[encoded data removed]",
      "text/plain": [
       "<Figure size 640x480 with 1 Axes>"
      ]
     },
     "metadata": {},
     "output_type": "display_data"
    },
    {
     "name": "stdout",
     "output_type": "stream",
     "text": [
      "1.7358288824366397\n",
      "3.9763717751092935\n"
     ]
    }
   ],
   "source": [
    "#avg distance\n",
    "import numpy as np\n",
    "distance=probabilitywalk(20)\n",
    "print(np.mean(distance))\n",
    "print(np.var(distance))\n"
   ]
  },
  {
   "cell_type": "code",
   "execution_count": null,
   "id": "c972e29c",
   "metadata": {},
   "outputs": [],
   "source": []
  }
 ],
 "metadata": {
  "kernelspec": {
   "display_name": "Python 3 (ipykernel)",
   "language": "python",
   "name": "python3"
  },
  "language_info": {
   "codemirror_mode": {
    "name": "ipython",
    "version": 3
   },
   "file_extension": ".py",
   "mimetype": "text/x-python",
   "name": "python",
   "nbconvert_exporter": "python",
   "pygments_lexer": "ipython3",
   "version": "3.9.13"
  }
 },
 "nbformat": 4,
 "nbformat_minor": 5
}
